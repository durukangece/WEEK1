{
 "cells": [
  {
   "cell_type": "markdown",
   "metadata": {},
   "source": [
    "## Week 1"
   ]
  },
  {
   "cell_type": "markdown",
   "metadata": {},
   "source": [
    "### Exercise 1:\n",
    "Write a function that receives a list as parameter and return how many elements it has; if it doesn't have any element return an error."
   ]
  },
  {
   "cell_type": "markdown",
   "metadata": {},
   "source": [
    "#### Solution 1:"
   ]
  },
  {
   "cell_type": "markdown",
   "metadata": {},
   "source": [
    "1) \"gece\" ve \"kalp\" olarak iki stringimizi listemizin içine atıyoruz.\n",
    "2) list_len adında bir fonksiyon tanımlıyoruz ve içine param adında bir parametre atıyoruz.\n",
    "3) if not metoduyla param boş bir liste, demet ya da string ise True döndürerek if bloğuna giriyor.\n",
    "4) Eğer param boş ise, ValueError ile bir hata olduğu belirtilir ve \"list is empty\" (liste boş) mesajıyla birlikte program durur.\n",
    "5) param boş bir liste değil ise metodumuz listenin uzunluğunu hesaplar ve bu uzunluğu döndürür.\n",
    "6) print fonksiyonuyla ise listenin uzunluğunu output olarak bastırıyoruz.\n"
   ]
  },
  {
   "cell_type": "code",
   "execution_count": 1,
   "metadata": {},
   "outputs": [
    {
     "name": "stdout",
     "output_type": "stream",
     "text": [
      "{'g': 3, 'e': 6, 'c': 3}\n"
     ]
    }
   ],
   "source": [
    "# Your code goes here\n",
    "list = [\"gece\",\"kalp\"]\n",
    "def list_len(param):\n",
    "    if not param:\n",
    "        raise ValueError(\"list is empty\")\n",
    "    return len(param)\n",
    "\n",
    "\n",
    "print(list_len(list))"
   ]
  },
  {
   "cell_type": "markdown",
   "metadata": {},
   "source": [
    "### Exercise 2:\n",
    "Write a function that receives a string as parameter and return the number of each character in it."
   ]
  },
  {
   "cell_type": "markdown",
   "metadata": {},
   "source": [
    "1) öncelikle char_counts adında boş bir sözlük oluşturuyoruz (karakter sayıları burada tutulacak).\n",
    "2) for kullanarak her karakter için işlemin döngüye girmesini sağlıyoruz. \n",
    "3) ilk karakter olan \"g\" için sözlükte \"g\" anahtarı bulunmadığından else bloğu çalışıyor ve \"g\" yi key olarak ekliyor.\n",
    "4) ikinci harf olan \"e\" sözlükte bulunduğu için if bloğu çalışıyor ve \"e\" değerini 1 arttırarak 2 yapıyor. \n",
    "5) bu işlem metindeki tüm karakterler için tekrarlanıyor.\n",
    "6) Sonuç olarak, her bir karakterin kaç kez geçtiği char_counts sözlüğünde tutuluyor ve bu sözlük print fonksiyonuyla ekrana yazdırılıyor."
   ]
  },
  {
   "cell_type": "code",
   "execution_count": 7,
   "metadata": {},
   "outputs": [],
   "source": [
    "# Your code goes here\n",
    "def count_char(s):\n",
    "    char_counts = {}\n",
    "    for char in s:\n",
    "        if char in char_counts:\n",
    "            char_counts[char] += 1\n",
    "        else:\n",
    "            char_counts[char] = 1\n",
    "    return char_counts\n",
    "\n",
    "str = \"gecegecegece\"\n",
    "print(count_char(str))"
   ]
  }
 ],
 "metadata": {
  "kernelspec": {
   "display_name": "Python 3",
   "language": "python",
   "name": "python3"
  },
  "language_info": {
   "codemirror_mode": {
    "name": "ipython",
    "version": 3
   },
   "file_extension": ".py",
   "mimetype": "text/x-python",
   "name": "python",
   "nbconvert_exporter": "python",
   "pygments_lexer": "ipython3",
   "version": "3.10.13"
  }
 },
 "nbformat": 4,
 "nbformat_minor": 2
}
